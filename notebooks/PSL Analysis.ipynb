{
 "cells": [
  {
   "cell_type": "code",
   "execution_count": 90,
   "id": "front-boating",
   "metadata": {},
   "outputs": [],
   "source": [
    "import pandas as pd\n",
    "import numpy as np\n",
    "import matplotlib.pyplot as plt\n",
    "from collections import defaultdict"
   ]
  },
  {
   "cell_type": "code",
   "execution_count": 3,
   "id": "strange-fault",
   "metadata": {},
   "outputs": [],
   "source": [
    "df = pd.read_csv(\"psl_formated.csv\")"
   ]
  },
  {
   "cell_type": "code",
   "execution_count": 71,
   "id": "toxic-income",
   "metadata": {},
   "outputs": [
    {
     "data": {
      "text/plain": [
       "array(['Islamabad United', 'Lahore Qalandars', 'Peshawar Zalmi',\n",
       "       'Karachi Kings', 'Quetta Gladiators', 'Multan Sultans'],\n",
       "      dtype=object)"
      ]
     },
     "execution_count": 71,
     "metadata": {},
     "output_type": "execute_result"
    }
   ],
   "source": [
    "df['team_1'].unique()"
   ]
  },
  {
   "cell_type": "markdown",
   "id": "cross-angel",
   "metadata": {},
   "source": [
    "# Boundries Count"
   ]
  },
  {
   "cell_type": "code",
   "execution_count": 32,
   "id": "unusual-proportion",
   "metadata": {},
   "outputs": [],
   "source": [
    "boundries_df =df.groupby(['psl_year']).agg(\n",
    "    fours = ('is_four','sum'),\n",
    "    sixes = ('is_six','sum'),\n",
    "    matches = ('match_number','max')\n",
    "    \n",
    ")"
   ]
  },
  {
   "cell_type": "code",
   "execution_count": 40,
   "id": "broad-express",
   "metadata": {},
   "outputs": [],
   "source": [
    "boundries_df = boundries_df.reset_index()"
   ]
  },
  {
   "cell_type": "code",
   "execution_count": 131,
   "id": "protective-salvation",
   "metadata": {},
   "outputs": [
    {
     "data": {
      "text/html": [
       "<div>\n",
       "<style scoped>\n",
       "    .dataframe tbody tr th:only-of-type {\n",
       "        vertical-align: middle;\n",
       "    }\n",
       "\n",
       "    .dataframe tbody tr th {\n",
       "        vertical-align: top;\n",
       "    }\n",
       "\n",
       "    .dataframe thead th {\n",
       "        text-align: right;\n",
       "    }\n",
       "</style>\n",
       "<table border=\"1\" class=\"dataframe\">\n",
       "  <thead>\n",
       "    <tr style=\"text-align: right;\">\n",
       "      <th></th>\n",
       "      <th>psl_year</th>\n",
       "      <th>fours</th>\n",
       "      <th>sixes</th>\n",
       "      <th>matches</th>\n",
       "      <th>fours_per_match</th>\n",
       "      <th>six_per_match</th>\n",
       "    </tr>\n",
       "  </thead>\n",
       "  <tbody>\n",
       "    <tr>\n",
       "      <th>0</th>\n",
       "      <td>2016</td>\n",
       "      <td>566</td>\n",
       "      <td>247</td>\n",
       "      <td>24</td>\n",
       "      <td>23.583333</td>\n",
       "      <td>10.291667</td>\n",
       "    </tr>\n",
       "    <tr>\n",
       "      <th>1</th>\n",
       "      <td>2017</td>\n",
       "      <td>552</td>\n",
       "      <td>258</td>\n",
       "      <td>24</td>\n",
       "      <td>23.000000</td>\n",
       "      <td>10.750000</td>\n",
       "    </tr>\n",
       "    <tr>\n",
       "      <th>2</th>\n",
       "      <td>2018</td>\n",
       "      <td>774</td>\n",
       "      <td>414</td>\n",
       "      <td>34</td>\n",
       "      <td>22.764706</td>\n",
       "      <td>12.176471</td>\n",
       "    </tr>\n",
       "    <tr>\n",
       "      <th>3</th>\n",
       "      <td>2019</td>\n",
       "      <td>878</td>\n",
       "      <td>374</td>\n",
       "      <td>34</td>\n",
       "      <td>25.823529</td>\n",
       "      <td>11.000000</td>\n",
       "    </tr>\n",
       "    <tr>\n",
       "      <th>4</th>\n",
       "      <td>2020</td>\n",
       "      <td>873</td>\n",
       "      <td>383</td>\n",
       "      <td>34</td>\n",
       "      <td>25.676471</td>\n",
       "      <td>11.264706</td>\n",
       "    </tr>\n",
       "  </tbody>\n",
       "</table>\n",
       "</div>"
      ],
      "text/plain": [
       "   psl_year  fours  sixes  matches  fours_per_match  six_per_match\n",
       "0      2016    566    247       24        23.583333      10.291667\n",
       "1      2017    552    258       24        23.000000      10.750000\n",
       "2      2018    774    414       34        22.764706      12.176471\n",
       "3      2019    878    374       34        25.823529      11.000000\n",
       "4      2020    873    383       34        25.676471      11.264706"
      ]
     },
     "execution_count": 131,
     "metadata": {},
     "output_type": "execute_result"
    }
   ],
   "source": [
    "boundries_df"
   ]
  },
  {
   "cell_type": "code",
   "execution_count": 134,
   "id": "adverse-female",
   "metadata": {},
   "outputs": [
    {
     "data": {
      "image/png": "[encoded data removed]",
      "text/plain": [
       "<Figure size 432x288 with 1 Axes>"
      ]
     },
     "metadata": {
      "needs_background": "light"
     },
     "output_type": "display_data"
    }
   ],
   "source": [
    "ax =boundries_df.plot('psl_year', 'fours', kind='bar')"
   ]
  },
  {
   "cell_type": "code",
   "execution_count": 139,
   "id": "radio-madagascar",
   "metadata": {},
   "outputs": [],
   "source": [
    "fig = ax.get_figure()\n",
    "fig.savefig('fours.jpg',dpi=100,bbox_inches='tight')"
   ]
  },
  {
   "cell_type": "code",
   "execution_count": null,
   "id": "coordinated-pollution",
   "metadata": {},
   "outputs": [],
   "source": []
  },
  {
   "cell_type": "code",
   "execution_count": 140,
   "id": "honey-fifth",
   "metadata": {},
   "outputs": [
    {
     "data": {
      "image/png": "[encoded data removed]",
      "text/plain": [
       "<Figure size 432x288 with 1 Axes>"
      ]
     },
     "metadata": {
      "needs_background": "light"
     },
     "output_type": "display_data"
    }
   ],
   "source": [
    "ax = boundries_df.plot('psl_year', 'sixes', kind='bar')\n",
    "fig = ax.get_figure()\n",
    "fig.savefig('sixes.jpg',dpi=100,bbox_inches='tight')"
   ]
  },
  {
   "cell_type": "code",
   "execution_count": 45,
   "id": "changing-claim",
   "metadata": {},
   "outputs": [],
   "source": [
    "boundries_df['fours_per_match'] = boundries_df['fours']/boundries_df['matches']\n",
    "boundries_df['six_per_match'] = boundries_df['sixes']/boundries_df['matches']"
   ]
  },
  {
   "cell_type": "code",
   "execution_count": 46,
   "id": "organizational-broadway",
   "metadata": {},
   "outputs": [
    {
     "data": {
      "text/html": [
       "<div>\n",
       "<style scoped>\n",
       "    .dataframe tbody tr th:only-of-type {\n",
       "        vertical-align: middle;\n",
       "    }\n",
       "\n",
       "    .dataframe tbody tr th {\n",
       "        vertical-align: top;\n",
       "    }\n",
       "\n",
       "    .dataframe thead th {\n",
       "        text-align: right;\n",
       "    }\n",
       "</style>\n",
       "<table border=\"1\" class=\"dataframe\">\n",
       "  <thead>\n",
       "    <tr style=\"text-align: right;\">\n",
       "      <th></th>\n",
       "      <th>psl_year</th>\n",
       "      <th>fours</th>\n",
       "      <th>sixes</th>\n",
       "      <th>matches</th>\n",
       "      <th>fours_per_match</th>\n",
       "      <th>six_per_match</th>\n",
       "    </tr>\n",
       "  </thead>\n",
       "  <tbody>\n",
       "    <tr>\n",
       "      <th>0</th>\n",
       "      <td>2016</td>\n",
       "      <td>566</td>\n",
       "      <td>247</td>\n",
       "      <td>24</td>\n",
       "      <td>23.583333</td>\n",
       "      <td>10.291667</td>\n",
       "    </tr>\n",
       "    <tr>\n",
       "      <th>1</th>\n",
       "      <td>2017</td>\n",
       "      <td>552</td>\n",
       "      <td>258</td>\n",
       "      <td>24</td>\n",
       "      <td>23.000000</td>\n",
       "      <td>10.750000</td>\n",
       "    </tr>\n",
       "    <tr>\n",
       "      <th>2</th>\n",
       "      <td>2018</td>\n",
       "      <td>774</td>\n",
       "      <td>414</td>\n",
       "      <td>34</td>\n",
       "      <td>22.764706</td>\n",
       "      <td>12.176471</td>\n",
       "    </tr>\n",
       "    <tr>\n",
       "      <th>3</th>\n",
       "      <td>2019</td>\n",
       "      <td>878</td>\n",
       "      <td>374</td>\n",
       "      <td>34</td>\n",
       "      <td>25.823529</td>\n",
       "      <td>11.000000</td>\n",
       "    </tr>\n",
       "    <tr>\n",
       "      <th>4</th>\n",
       "      <td>2020</td>\n",
       "      <td>873</td>\n",
       "      <td>383</td>\n",
       "      <td>34</td>\n",
       "      <td>25.676471</td>\n",
       "      <td>11.264706</td>\n",
       "    </tr>\n",
       "  </tbody>\n",
       "</table>\n",
       "</div>"
      ],
      "text/plain": [
       "   psl_year  fours  sixes  matches  fours_per_match  six_per_match\n",
       "0      2016    566    247       24        23.583333      10.291667\n",
       "1      2017    552    258       24        23.000000      10.750000\n",
       "2      2018    774    414       34        22.764706      12.176471\n",
       "3      2019    878    374       34        25.823529      11.000000\n",
       "4      2020    873    383       34        25.676471      11.264706"
      ]
     },
     "execution_count": 46,
     "metadata": {},
     "output_type": "execute_result"
    }
   ],
   "source": [
    "boundries_df"
   ]
  },
  {
   "cell_type": "code",
   "execution_count": 141,
   "id": "social-patient",
   "metadata": {},
   "outputs": [
    {
     "data": {
      "image/png": "[encoded data removed]",
      "text/plain": [
       "<Figure size 432x288 with 1 Axes>"
      ]
     },
     "metadata": {
      "needs_background": "light"
     },
     "output_type": "display_data"
    }
   ],
   "source": [
    "ax =boundries_df.plot('psl_year', 'fours_per_match', kind='bar')\n",
    "fig = ax.get_figure()\n",
    "fig.savefig('four_.jpg',dpi=100,bbox_inches='tight')"
   ]
  },
  {
   "cell_type": "code",
   "execution_count": 142,
   "id": "documented-enclosure",
   "metadata": {},
   "outputs": [
    {
     "data": {
      "image/png": "[encoded data removed]",
      "text/plain": [
       "<Figure size 432x288 with 1 Axes>"
      ]
     },
     "metadata": {
      "needs_background": "light"
     },
     "output_type": "display_data"
    }
   ],
   "source": [
    "ax = boundries_df.plot('psl_year', 'six_per_match', kind='bar')\n",
    "fig = ax.get_figure()\n",
    "fig.savefig('six_.jpg',dpi=100,bbox_inches='tight')"
   ]
  },
  {
   "cell_type": "markdown",
   "id": "numerous-insider",
   "metadata": {},
   "source": [
    "# Wickets"
   ]
  },
  {
   "cell_type": "code",
   "execution_count": 51,
   "id": "stopped-malpractice",
   "metadata": {},
   "outputs": [
    {
     "data": {
      "text/plain": [
       "array([nan, 'caught', 'bowled', 'lbw', 'run out', 'stumped', 'hit wicket',\n",
       "       'obstruct field'], dtype=object)"
      ]
     },
     "execution_count": 51,
     "metadata": {},
     "output_type": "execute_result"
    }
   ],
   "source": [
    "df[\"wicket_text\"].unique()"
   ]
  },
  {
   "cell_type": "code",
   "execution_count": 143,
   "id": "exciting-repository",
   "metadata": {},
   "outputs": [
    {
     "data": {
      "text/plain": [
       "caught            1147\n",
       "bowled             328\n",
       "run out            165\n",
       "lbw                130\n",
       "stumped             42\n",
       "hit wicket           3\n",
       "obstruct field       1\n",
       "Name: wicket_text, dtype: int64"
      ]
     },
     "execution_count": 143,
     "metadata": {},
     "output_type": "execute_result"
    }
   ],
   "source": [
    "df['wicket_text'].value_counts()"
   ]
  },
  {
   "cell_type": "code",
   "execution_count": 54,
   "id": "industrial-seeker",
   "metadata": {},
   "outputs": [],
   "source": [
    "wickets = df['wicket_text'].value_counts()"
   ]
  },
  {
   "cell_type": "code",
   "execution_count": 147,
   "id": "dominican-summit",
   "metadata": {},
   "outputs": [],
   "source": [
    "wicket_dict = dict(wickets)\n",
    "del_keys = []\n",
    "others = 0\n",
    "for key, value in wicket_dict.items():\n",
    "    if value <100:\n",
    "        others = others+value\n",
    "        del_keys.append(key)\n",
    "    "
   ]
  },
  {
   "cell_type": "code",
   "execution_count": 149,
   "id": "pretty-laundry",
   "metadata": {},
   "outputs": [],
   "source": [
    "for del_key in del_keys:\n",
    "    del(wicket_dict[del_key])"
   ]
  },
  {
   "cell_type": "code",
   "execution_count": 151,
   "id": "varying-first",
   "metadata": {},
   "outputs": [],
   "source": [
    "wicket_dict['others']= others"
   ]
  },
  {
   "cell_type": "code",
   "execution_count": 152,
   "id": "exact-maryland",
   "metadata": {},
   "outputs": [
    {
     "data": {
      "text/plain": [
       "{'caught': 1147, 'bowled': 328, 'run out': 165, 'lbw': 130, 'others': 46}"
      ]
     },
     "execution_count": 152,
     "metadata": {},
     "output_type": "execute_result"
    }
   ],
   "source": [
    "wicket_dict"
   ]
  },
  {
   "cell_type": "code",
   "execution_count": 157,
   "id": "spare-terrorism",
   "metadata": {},
   "outputs": [
    {
     "data": {
      "image/png": "[encoded data removed]",
      "text/plain": [
       "<Figure size 432x288 with 1 Axes>"
      ]
     },
     "metadata": {
      "needs_background": "light"
     },
     "output_type": "display_data"
    }
   ],
   "source": [
    "plt.bar(*zip(*wicket_dict.items()))\n",
    "plt.savefig('wickets.png',dpi=400)"
   ]
  },
  {
   "cell_type": "markdown",
   "id": "stunning-constitutional",
   "metadata": {},
   "source": [
    "# Team Based Dataframes\n"
   ]
  },
  {
   "cell_type": "code",
   "execution_count": 74,
   "id": "regulated-independence",
   "metadata": {},
   "outputs": [],
   "source": [
    "teams_df = {'quetta' : df.loc[((df['team_1'] == \"Quetta Gladiators\") & (df['inning'] == 1)) | ((df['team_2'] == \"Quetta Gladiators\") & (df['inning'] == 2))],\n",
    "'lahore' : df.loc[((df['team_1'] == \"Lahore Qalandars\") & (df['inning'] == 1)) | ((df['team_2'] == \"Lahore Qalandars\") & (df['inning'] == 2))],\n",
    "'islamabad' : df.loc[((df['team_1'] == \"Islamabad United\") & (df['inning'] == 1)) | ((df['team_2'] == \"Islamabad United\") & (df['inning'] == 2))],\n",
    "'peshawar' : df.loc[((df['team_1'] == \"Peshawar Zalmi\") & (df['inning'] == 1)) | ((df['team_2'] == \"Peshawar Zalmi\") & (df['inning'] == 2))],\n",
    "'multan' : df.loc[((df['team_1'] == \"Multan Sultans\") & (df['inning'] == 1)) | ((df['team_2'] == \"Multan Sultans\") & (df['inning'] == 2))],\n",
    "'karachi' : df.loc[((df['team_1'] == \"Karachi Kings\") & (df['inning'] == 1)) | ((df['team_2'] == \"Karachi Kings\") & (df['inning'] == 2))]\n",
    "}"
   ]
  },
  {
   "cell_type": "markdown",
   "id": "compressed-method",
   "metadata": {},
   "source": [
    "# Team Based Runs\n"
   ]
  },
  {
   "cell_type": "code",
   "execution_count": 86,
   "id": "threatened-dutch",
   "metadata": {},
   "outputs": [],
   "source": [
    "team_runs = {}\n",
    "for team_name, value in teams_df.items():\n",
    "    team_runs[team_name] = value['runs'].sum()"
   ]
  },
  {
   "cell_type": "code",
   "execution_count": 93,
   "id": "joined-croatia",
   "metadata": {},
   "outputs": [],
   "source": [
    "team_matches = {}\n",
    "for team_name , value in teams_df.items():\n",
    "    team_matches[team_name] = value.groupby(['psl_year', 'match_number']).ngroups"
   ]
  },
  {
   "cell_type": "code",
   "execution_count": 159,
   "id": "placed-florida",
   "metadata": {},
   "outputs": [
    {
     "data": {
      "text/plain": [
       "{'quetta': 7722,\n",
       " 'lahore': 7325,\n",
       " 'islamabad': 7988,\n",
       " 'peshawar': 8632,\n",
       " 'multan': 4404,\n",
       " 'karachi': 7720}"
      ]
     },
     "execution_count": 159,
     "metadata": {},
     "output_type": "execute_result"
    }
   ],
   "source": [
    "team_runs"
   ]
  },
  {
   "cell_type": "code",
   "execution_count": 158,
   "id": "classified-moisture",
   "metadata": {},
   "outputs": [
    {
     "data": {
      "image/png": "[encoded data removed]",
      "text/plain": [
       "<Figure size 432x288 with 1 Axes>"
      ]
     },
     "metadata": {
      "needs_background": "light"
     },
     "output_type": "display_data"
    }
   ],
   "source": [
    "plt.bar(*zip(*team_runs.items()))\n",
    "plt.savefig('runs.png',dpi=400)"
   ]
  },
  {
   "cell_type": "code",
   "execution_count": 98,
   "id": "indian-kinase",
   "metadata": {},
   "outputs": [],
   "source": [
    "team_runs_per_match ={}\n",
    "for team_name, value in team_runs.items():\n",
    "    team_runs_per_match[team_name]= value/team_matches[team_name]"
   ]
  },
  {
   "cell_type": "code",
   "execution_count": 160,
   "id": "weird-donna",
   "metadata": {},
   "outputs": [
    {
     "data": {
      "image/png": "[encoded data removed]",
      "text/plain": [
       "<Figure size 432x288 with 1 Axes>"
      ]
     },
     "metadata": {
      "needs_background": "light"
     },
     "output_type": "display_data"
    }
   ],
   "source": [
    "plt.bar(*zip(*team_runs_per_match.items()))\n",
    "plt.savefig('runs_per_match.png',dpi=400)"
   ]
  },
  {
   "cell_type": "markdown",
   "id": "legitimate-iceland",
   "metadata": {},
   "source": [
    "# Teams based percentage runs in boundries"
   ]
  },
  {
   "cell_type": "code",
   "execution_count": 103,
   "id": "invisible-isaac",
   "metadata": {},
   "outputs": [],
   "source": [
    "team_boundry_runs = {}\n",
    "for team_name, value in teams_df.items():\n",
    "    sixes = value['is_six'].sum()\n",
    "    fours = value['is_four'].sum()\n",
    "    team_boundry_runs[team_name]= (sixes*6)+(fours*4)"
   ]
  },
  {
   "cell_type": "code",
   "execution_count": 104,
   "id": "dominant-somerset",
   "metadata": {},
   "outputs": [
    {
     "data": {
      "text/plain": [
       "{'quetta': 4232,\n",
       " 'lahore': 4244,\n",
       " 'islamabad': 4698,\n",
       " 'peshawar': 4974,\n",
       " 'multan': 2396,\n",
       " 'karachi': 4084}"
      ]
     },
     "execution_count": 104,
     "metadata": {},
     "output_type": "execute_result"
    }
   ],
   "source": [
    "team_boundry_runs"
   ]
  },
  {
   "cell_type": "code",
   "execution_count": 105,
   "id": "early-replacement",
   "metadata": {},
   "outputs": [
    {
     "data": {
      "text/plain": [
       "{'quetta': 7722,\n",
       " 'lahore': 7325,\n",
       " 'islamabad': 7988,\n",
       " 'peshawar': 8632,\n",
       " 'multan': 4404,\n",
       " 'karachi': 7720}"
      ]
     },
     "execution_count": 105,
     "metadata": {},
     "output_type": "execute_result"
    }
   ],
   "source": [
    "team_runs"
   ]
  },
  {
   "cell_type": "code",
   "execution_count": 110,
   "id": "italian-reform",
   "metadata": {},
   "outputs": [
    {
     "name": "stdout",
     "output_type": "stream",
     "text": [
      "quetta scored 54.80445480445481% runs in boundries\n",
      "lahore scored 57.93856655290103% runs in boundries\n",
      "islamabad scored 58.81321982974461% runs in boundries\n",
      "peshawar scored 57.622798887859126% runs in boundries\n",
      "multan scored 54.40508628519528% runs in boundries\n",
      "karachi scored 52.90155440414508% runs in boundries\n"
     ]
    }
   ],
   "source": [
    "boundry_run_percentage = {}\n",
    "for team, runs in team_runs.items():\n",
    "    print (f\"{team} scored {(team_boundry_runs[team]/runs)*100}% runs in boundries\")\n",
    "    boundry_run_percentage[team] = (team_boundry_runs[team]/runs)*100"
   ]
  },
  {
   "cell_type": "code",
   "execution_count": 161,
   "id": "elect-stand",
   "metadata": {},
   "outputs": [
    {
     "data": {
      "image/png": "[encoded data removed]",
      "text/plain": [
       "<Figure size 432x288 with 1 Axes>"
      ]
     },
     "metadata": {
      "needs_background": "light"
     },
     "output_type": "display_data"
    }
   ],
   "source": [
    "plt.bar(*zip(*boundry_run_percentage.items()))\n",
    "plt.savefig('boundry_percentage.png',dpi=400)"
   ]
  },
  {
   "cell_type": "markdown",
   "id": "engaging-objective",
   "metadata": {},
   "source": [
    "# Dot Balls Played"
   ]
  },
  {
   "cell_type": "code",
   "execution_count": 118,
   "id": "similar-notion",
   "metadata": {},
   "outputs": [],
   "source": [
    "dot_balls_played = {}\n",
    "total_balls_played = {}\n",
    "for team, value in teams_df.items():\n",
    "    dot_balls_played[team]=value[value['runs']==0].shape[0]\n",
    "    total_balls_played[team]= value.shape[0]"
   ]
  },
  {
   "cell_type": "code",
   "execution_count": 121,
   "id": "specified-concern",
   "metadata": {},
   "outputs": [],
   "source": [
    "dot_ball_percentage ={}\n",
    "for team , value in dot_balls_played.items():\n",
    "    dot_ball_percentage[team] = (value/total_balls_played[team])*100"
   ]
  },
  {
   "cell_type": "code",
   "execution_count": 124,
   "id": "polish-sunset",
   "metadata": {},
   "outputs": [
    {
     "name": "stdout",
     "output_type": "stream",
     "text": [
      "Team : quetta played 34.13937867338371% of dot balls\n",
      "Team : lahore played 36.852240896358545% of dot balls\n",
      "Team : islamabad played 36.45076007931262% of dot balls\n",
      "Team : peshawar played 36.53875094055681% of dot balls\n",
      "Team : multan played 35.08415554265815% of dot balls\n",
      "Team : karachi played 34.52535760728219% of dot balls\n"
     ]
    }
   ],
   "source": [
    "for team , value in dot_ball_percentage.items():\n",
    "    print (f\"Team : {team} played {value}% of dot balls\")"
   ]
  },
  {
   "cell_type": "code",
   "execution_count": 162,
   "id": "accredited-sailing",
   "metadata": {},
   "outputs": [
    {
     "data": {
      "image/png": "[encoded data removed]",
      "text/plain": [
       "<Figure size 432x288 with 1 Axes>"
      ]
     },
     "metadata": {
      "needs_background": "light"
     },
     "output_type": "display_data"
    }
   ],
   "source": [
    "plt.bar(*zip(*dot_ball_percentage.items()))\n",
    "plt.savefig('dot_balls.png',dpi=400)"
   ]
  },
  {
   "cell_type": "markdown",
   "id": "affected-wichita",
   "metadata": {},
   "source": [
    "# Six Hit Per Team"
   ]
  },
  {
   "cell_type": "code",
   "execution_count": 126,
   "id": "concrete-measurement",
   "metadata": {},
   "outputs": [],
   "source": [
    "six_per_team = {}\n",
    "for team, value in teams_df.items():\n",
    "    six_per_team[team] = value['is_six'].sum()"
   ]
  },
  {
   "cell_type": "code",
   "execution_count": 127,
   "id": "white-papua",
   "metadata": {},
   "outputs": [
    {
     "data": {
      "text/plain": [
       "{'quetta': 278,\n",
       " 'lahore': 294,\n",
       " 'islamabad': 339,\n",
       " 'peshawar': 355,\n",
       " 'multan': 152,\n",
       " 'karachi': 258}"
      ]
     },
     "execution_count": 127,
     "metadata": {},
     "output_type": "execute_result"
    }
   ],
   "source": [
    "six_per_team"
   ]
  },
  {
   "cell_type": "code",
   "execution_count": 128,
   "id": "frank-parker",
   "metadata": {},
   "outputs": [],
   "source": [
    "six_per_match ={}\n",
    "for team ,value in six_per_team.items():\n",
    "    six_per_match[team] = value/team_matches[team]"
   ]
  },
  {
   "cell_type": "code",
   "execution_count": 129,
   "id": "finished-affair",
   "metadata": {},
   "outputs": [
    {
     "data": {
      "text/plain": [
       "{'quetta': 5.450980392156863,\n",
       " 'lahore': 6.0,\n",
       " 'islamabad': 6.39622641509434,\n",
       " 'peshawar': 6.228070175438597,\n",
       " 'multan': 5.066666666666666,\n",
       " 'karachi': 4.961538461538462}"
      ]
     },
     "execution_count": 129,
     "metadata": {},
     "output_type": "execute_result"
    }
   ],
   "source": [
    "six_per_match"
   ]
  },
  {
   "cell_type": "code",
   "execution_count": 163,
   "id": "searching-angel",
   "metadata": {},
   "outputs": [
    {
     "data": {
      "image/png": "[encoded data removed]",
      "text/plain": [
       "<Figure size 432x288 with 1 Axes>"
      ]
     },
     "metadata": {
      "needs_background": "light"
     },
     "output_type": "display_data"
    }
   ],
   "source": [
    "plt.bar(*zip(*six_per_match.items()))\n",
    "plt.savefig('sixes_per_match.png',dpi=400)"
   ]
  },
  {
   "cell_type": "code",
   "execution_count": null,
   "id": "enclosed-wealth",
   "metadata": {},
   "outputs": [],
   "source": []
  }
 ],
 "metadata": {
  "kernelspec": {
   "display_name": "Python 3",
   "language": "python",
   "name": "python3"
  },
  "language_info": {
   "codemirror_mode": {
    "name": "ipython",
    "version": 3
   },
   "file_extension": ".py",
   "mimetype": "text/x-python",
   "name": "python",
   "nbconvert_exporter": "python",
   "pygments_lexer": "ipython3",
   "version": "3.7.9"
  }
 },
 "nbformat": 4,
 "nbformat_minor": 5
}
